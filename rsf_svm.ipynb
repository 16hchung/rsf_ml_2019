{
 "cells": [
  {
   "cell_type": "code",
   "execution_count": 1,
   "metadata": {
    "collapsed": true
   },
   "outputs": [],
   "source": [
    "import study_rsfs.svm_helpers as svm_help\n",
    "from study_rsfs.load_data import RSFDataLoader"
   ]
  },
  {
   "cell_type": "markdown",
   "metadata": {},
   "source": [
    "### July 15 (summer week 3 in notes)\n",
    "analysis with old data (small sigma = .02 angstroms)"
   ]
  },
  {
   "cell_type": "code",
   "execution_count": 2,
   "metadata": {},
   "outputs": [],
   "source": [
    "# training SVM on separate RSFs and predicting % that is liquid in mixed RSFs data\n",
    "MIXED_RSFS_FNAME = 'rsfs_mixed_bigsigma_250k_1960000.dat'\n",
    "loader = RSFDataLoader()\n",
    "X_train, y_train = loader.load_rsfs_liq_sol()\n",
    "X_mixed, y_mixed = loader.load_rsfs(MIXED_RSFS_FNAME, label=loader.NO_LBL)\n"
   ]
  }
 ],
 "metadata": {
  "kernelspec": {
   "display_name": "Python 3",
   "language": "python",
   "name": "python3"
  },
  "language_info": {
   "codemirror_mode": {
    "name": "ipython",
    "version": 3
   },
   "file_extension": ".py",
   "mimetype": "text/x-python",
   "name": "python",
   "nbconvert_exporter": "python",
   "pygments_lexer": "ipython3",
   "version": "3.6.1"
  }
 },
 "nbformat": 4,
 "nbformat_minor": 2
}
